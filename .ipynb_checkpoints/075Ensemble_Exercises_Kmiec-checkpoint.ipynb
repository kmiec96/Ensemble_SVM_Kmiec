{
 "cells": [
  {
   "cell_type": "markdown",
   "metadata": {},
   "source": [
    "# Ensemble methods. Exercises\n",
    "\n",
    "\n",
    "In this section we have only two exercise:\n",
    "\n",
    "1. Find the best three classifier in the stacking method using the classifiers from scikit-learn package.\n",
    "\n",
    "2. Build arcing arc-x4 method. "
   ]
  },
  {
   "cell_type": "code",
   "execution_count": 46,
   "metadata": {},
   "outputs": [
    {
     "name": "stdout",
     "output_type": "stream",
     "text": [
      "DONE\n"
     ]
    }
   ],
   "source": [
    "%store -r data_set\n",
    "%store -r labels\n",
    "%store -r test_data_set\n",
    "%store -r test_labels\n",
    "%store -r unique_labels\n",
    "print(\"DONE\")"
   ]
  },
  {
   "cell_type": "markdown",
   "metadata": {},
   "source": [
    "## Exercise 1: Find the best three classifier in the stacking method\n",
    "\n",
    "Please use the following classifiers:\n",
    "\n",
    "* Linear regression,\n",
    "* Nearest Neighbors,\n",
    "* Linear SVM,\n",
    "* Decision Tree,\n",
    "* Naive Bayes,\n",
    "* QDA."
   ]
  },
  {
   "cell_type": "code",
   "execution_count": 47,
   "metadata": {},
   "outputs": [
    {
     "name": "stdout",
     "output_type": "stream",
     "text": [
      "DONE\n"
     ]
    }
   ],
   "source": [
    "import numpy as np\n",
    "from sklearn.metrics import accuracy_score\n",
    "\n",
    "from sklearn.linear_model import LinearRegression\n",
    "from sklearn.neighbors import KNeighborsClassifier\n",
    "from sklearn.svm import SVC\n",
    "from sklearn.tree import DecisionTreeClassifier\n",
    "from sklearn.naive_bayes import GaussianNB\n",
    "from sklearn.discriminant_analysis import QuadraticDiscriminantAnalysis\n",
    "\n",
    "print(\"DONE\")"
   ]
  },
  {
   "cell_type": "code",
   "execution_count": 48,
   "metadata": {},
   "outputs": [
    {
     "name": "stdout",
     "output_type": "stream",
     "text": [
      "DONE\n"
     ]
    }
   ],
   "source": [
    "def build_classifiers():\n",
    "    # fill this part ###########################\n",
    "    \n",
    "    #Linear Regression\n",
    "    linear_regression = LinearRegression()\n",
    "    linear_regression.fit(data_set, labels)\n",
    "\n",
    "    #Nearest Neighbours\n",
    "    neighbors = KNeighborsClassifier()\n",
    "    neighbors.fit(data_set, labels)\n",
    "\n",
    "    #SVM\n",
    "    svc = SVC()\n",
    "    svc.fit(data_set, labels)\n",
    "    \n",
    "    #Decision Tree\n",
    "    decision_tree = DecisionTreeClassifier()\n",
    "    decision_tree.fit(data_set, labels)\n",
    " \n",
    "    #Naive Bayes\n",
    "    nb = GaussianNB()\n",
    "    nb.fit(data_set, labels)\n",
    "    \n",
    "    #QDA\n",
    "    qda = QuadraticDiscriminantAnalysis()\n",
    "    qda.fit(data_set, labels)\n",
    "    ##########################################\n",
    "    return linear_regression, neighbors, svc, decision_tree, nb, qda  \n",
    "print(\"DONE\")"
   ]
  },
  {
   "cell_type": "code",
   "execution_count": 49,
   "metadata": {},
   "outputs": [
    {
     "name": "stdout",
     "output_type": "stream",
     "text": [
      "DONE\n"
     ]
    }
   ],
   "source": [
    "import itertools \n",
    "#library used for finding combinations\n",
    "#without repetitions drawn from within the list of 5\n",
    "#classifiers defined above.\n",
    "\n",
    "def build_stacked_classifier(classifiers, stacked_classifier):\n",
    "    \n",
    "#######################################################################\n",
    "## I decided to consider combinations without repetition exclusively ##\n",
    "#######################################################################\n",
    "\n",
    "    classifiers_combinations = itertools.combinations(classifiers, 3)\n",
    "    output = [] \n",
    "    classifier_combinations_list = []\n",
    "    \n",
    "    for classifiers in classifiers_combinations:\n",
    "        out = []\n",
    "        model = []\n",
    "        for classifier in classifiers:\n",
    "            out.append(classifier.predict(data_set)) \n",
    "            model.append(classifier) \n",
    "        output.append(np.array(out).reshape((130,3))) \n",
    "        classifier_combinations_list.append(model)    \n",
    "           \n",
    "    ##############################\n",
    "    ## stacked classifier part: ##\n",
    "    ##############################\n",
    "    \n",
    "    classifier_model_fit = []\n",
    "    # Creating stacked classifier\n",
    "    for classifier_output in output:\n",
    "        classifier_model_fit.append(stacked_classifier.fit(\\\n",
    "        classifier_output.reshape((130,3)),labels.reshape((130,))))\n",
    "   \n",
    "    #Get test_set build out of three classifier combinations' predictions.\n",
    "    #Next, get stacked classifier's predictions for test_set.\n",
    "    test_predictions = []       \n",
    "    for i, stacked_classifier in enumerate(classifier_model_fit):\n",
    "        test_set = [] \n",
    "        classifiers = classifier_combinations_list[i]                 \n",
    "        for classifier in classifiers:\n",
    "            test_set.append(classifier.predict(test_data_set))\n",
    "        test_set = np.array(test_set).reshape((len(test_set[0]),3))\n",
    "        predicted = stacked_classifier.predict(test_set)\n",
    "        test_predictions.append(predicted)\n",
    "    \n",
    "    accuracy_list = []\n",
    "    \n",
    "    #accuracy for each stacked classifier\n",
    "    for predicted in test_predictions:\n",
    "        accuracy_list.append(accuracy_score(test_labels, predicted))\n",
    "        accuracy = accuracy_score(test_labels, predicted) \n",
    "    \n",
    "    #Choosing the best stacked classifier and three best classifiers.\n",
    "    #The higher the accuracy the better!\n",
    "    best_three_classifiers = classifier_combinations_list[np.argmax(accuracy_list)]\n",
    "    best_stacked_classifier = classifier_model_fit[np.argmax(accuracy_list)]\n",
    "    best_predicted = best_stacked_classifier.predict(test_set)   \n",
    "    \n",
    "############################################################################    \n",
    "    return best_three_classifiers, best_predicted, best_stacked_classifier\n",
    "print(\"DONE\")"
   ]
  },
  {
   "cell_type": "code",
   "execution_count": 50,
   "metadata": {},
   "outputs": [
    {
     "name": "stdout",
     "output_type": "stream",
     "text": [
      "################# Stacking of SVC() #############################\n",
      "----------------------------------------------------------------\n",
      "The best set of three classifiers:\n",
      "----------------------------------------------------------------\n",
      "\n",
      "LinearRegression\n",
      "KNeighborsClassifier\n",
      "DecisionTreeClassifier\n",
      "\n",
      "--------------------------------------------------------------\n",
      "Type of stacked classifier\n",
      "\n",
      " SVC(C=1.0, cache_size=200, class_weight=None, coef0=0.0,\n",
      "  decision_function_shape='ovr', degree=3, gamma='auto_deprecated',\n",
      "  kernel='rbf', max_iter=-1, probability=False, random_state=None,\n",
      "  shrinking=True, tol=0.001, verbose=False)\n",
      "--------------------------------------------------------------\n",
      "\n",
      "Accuracy\n",
      "0.8\n",
      "################# Stacking of KNeighborsClassifier() #############\n",
      "----------------------------------------------------------------\n",
      "The best set of three classifiers:\n",
      "----------------------------------------------------------------\n",
      "\n",
      "LinearRegression\n",
      "KNeighborsClassifier\n",
      "SVC\n",
      "\n",
      "--------------------------------------------------------------\n",
      "Type of stacked classifier\n",
      "\n",
      " KNeighborsClassifier(algorithm='auto', leaf_size=30, metric='minkowski',\n",
      "           metric_params=None, n_jobs=None, n_neighbors=5, p=2,\n",
      "           weights='uniform')\n",
      "--------------------------------------------------------------\n",
      "\n",
      "Accuracy\n",
      "0.0\n",
      "############### Stacking of DecisionTreeClassifier() #############\n",
      "----------------------------------------------------------------\n",
      "The best set of three classifiers:\n",
      "----------------------------------------------------------------\n",
      "\n",
      "KNeighborsClassifier\n",
      "DecisionTreeClassifier\n",
      "QuadraticDiscriminantAnalysis\n",
      "\n",
      "--------------------------------------------------------------\n",
      "Type of stacked classifier\n",
      "\n",
      " DecisionTreeClassifier(class_weight=None, criterion='gini', max_depth=None,\n",
      "            max_features=None, max_leaf_nodes=None,\n",
      "            min_impurity_decrease=0.0, min_impurity_split=None,\n",
      "            min_samples_leaf=1, min_samples_split=2,\n",
      "            min_weight_fraction_leaf=0.0, presort=False, random_state=None,\n",
      "            splitter='best')\n",
      "--------------------------------------------------------------\n",
      "\n",
      "Accuracy\n",
      "0.9\n",
      "############### Stacking of GaussianNB() #############\n",
      "----------------------------------------------------------------\n",
      "The best set of three classifiers:\n",
      "----------------------------------------------------------------\n",
      "\n",
      "LinearRegression\n",
      "KNeighborsClassifier\n",
      "SVC\n",
      "\n",
      "--------------------------------------------------------------\n",
      "Type of stacked classifier:\n",
      "\n",
      " GaussianNB(priors=None, var_smoothing=1e-09)\n",
      "--------------------------------------------------------------\n",
      "\n",
      "Accuracy\n",
      "1.0\n",
      "##################################################################\n"
     ]
    }
   ],
   "source": [
    "import warnings\n",
    "warnings.filterwarnings('ignore')\n",
    "\n",
    "stacked_classifier = SVC()\n",
    "classifiers = build_classifiers()\n",
    "\n",
    "best_three_classifiers, best_predicted, best_stacked_classifier\\\n",
    "= build_stacked_classifier(classifiers, stacked_classifier=stacked_classifier)\n",
    "\n",
    "accuracy = accuracy_score(test_labels, best_predicted)\n",
    "print(\"################# Stacking of SVC() #############################\")\n",
    "print(\"----------------------------------------------------------------\")\n",
    "print(\"The best set of three classifiers:\")\n",
    "print(\"----------------------------------------------------------------\\n\")\n",
    "for three_classifiers in best_three_classifiers:\n",
    "    print(type(three_classifiers).__name__)\n",
    "print(\"\\n--------------------------------------------------------------\")\n",
    "print(\"Type of stacked classifier\\n\\n\", best_stacked_classifier)\n",
    "print(\"--------------------------------------------------------------\\n\")\n",
    "print(\"Accuracy\")\n",
    "print(accuracy)\n",
    "\n",
    "stacked_classifier = KNeighborsClassifier()\n",
    "classifiers = build_classifiers()\n",
    "\n",
    "best_three_classifiers, best_predicted, best_stacked_classifier\\\n",
    "= build_stacked_classifier(classifiers, stacked_classifier=stacked_classifier)\n",
    "\n",
    "accuracy = accuracy_score(test_labels, best_predicted)\n",
    "print(\"################# Stacking of KNeighborsClassifier() #############\")\n",
    "print(\"----------------------------------------------------------------\")\n",
    "print(\"The best set of three classifiers:\")\n",
    "print(\"----------------------------------------------------------------\\n\")\n",
    "for three_classifiers in best_three_classifiers:\n",
    "    print(type(three_classifiers).__name__)\n",
    "print(\"\\n--------------------------------------------------------------\")\n",
    "print(\"Type of stacked classifier\\n\\n\", best_stacked_classifier)\n",
    "print(\"--------------------------------------------------------------\\n\")\n",
    "print(\"Accuracy\")\n",
    "print(accuracy)\n",
    "\n",
    "\n",
    "\n",
    "stacked_classifier =  DecisionTreeClassifier()\n",
    "classifiers = build_classifiers()\n",
    "\n",
    "best_three_classifiers, best_predicted, best_stacked_classifier\\\n",
    "= build_stacked_classifier(classifiers, stacked_classifier=stacked_classifier)\n",
    "\n",
    "accuracy = accuracy_score(test_labels, best_predicted)\n",
    "print(\"############### Stacking of DecisionTreeClassifier() #############\")\n",
    "print(\"----------------------------------------------------------------\")\n",
    "print(\"The best set of three classifiers:\")\n",
    "print(\"----------------------------------------------------------------\\n\")\n",
    "for three_classifiers in best_three_classifiers:\n",
    "    print(type(three_classifiers).__name__)\n",
    "print(\"\\n--------------------------------------------------------------\")\n",
    "print(\"Type of stacked classifier\\n\\n\", best_stacked_classifier)\n",
    "print(\"--------------------------------------------------------------\\n\")\n",
    "print(\"Accuracy\")\n",
    "print(accuracy)\n",
    "\n",
    "stacked_classifier =  GaussianNB()\n",
    "classifiers = build_classifiers()\n",
    "\n",
    "best_three_classifiers, best_predicted, best_stacked_classifier\\\n",
    "= build_stacked_classifier(classifiers, stacked_classifier=stacked_classifier)\n",
    "\n",
    "accuracy = accuracy_score(test_labels, best_predicted)\n",
    "print(\"############### Stacking of GaussianNB() #############\")\n",
    "print(\"----------------------------------------------------------------\")\n",
    "print(\"The best set of three classifiers:\")\n",
    "print(\"----------------------------------------------------------------\\n\")\n",
    "for three_classifiers in best_three_classifiers:\n",
    "    print(type(three_classifiers).__name__)\n",
    "print(\"\\n--------------------------------------------------------------\")\n",
    "print(\"Type of stacked classifier:\\n\\n\", best_stacked_classifier)\n",
    "print(\"--------------------------------------------------------------\\n\")\n",
    "print(\"Accuracy\")\n",
    "print(accuracy)\n",
    "print(\"##################################################################\")\n"
   ]
  },
  {
   "cell_type": "markdown",
   "metadata": {},
   "source": [
    "## Exercise 2: \n",
    "\n",
    "Use the boosting method and change the code to fullfilt the following requirements:\n",
    "\n",
    "* the weights should be calculated as:\n",
    "$w_{n}^{(t+1)}=\\frac{1+ I(y_{n}\\neq h_{t}(x_{n})}{\\sum_{i=1}^{N}1+I(y_{n}\\neq h_{t}(x_{n})}$,\n",
    "* the prediction is done with a voting method."
   ]
  },
  {
   "cell_type": "code",
   "execution_count": 51,
   "metadata": {},
   "outputs": [
    {
     "name": "stdout",
     "output_type": "stream",
     "text": [
      "DONE\n"
     ]
    }
   ],
   "source": [
    "import numpy as np\n",
    "from sklearn.tree import DecisionTreeClassifier\n",
    "\n",
    "# prepare data set\n",
    "\n",
    "def generate_data(sample_number, feature_number, label_number):\n",
    "    data_set = np.random.random_sample((sample_number, feature_number))\n",
    "    labels = np.random.choice(label_number, sample_number)\n",
    "    return data_set, labels\n",
    "\n",
    "labels = 2\n",
    "dimension = 2\n",
    "test_set_size = 1000\n",
    "train_set_size = 5000\n",
    "train_set, train_labels = generate_data(train_set_size, dimension, labels)\n",
    "test_set, test_labels = generate_data(test_set_size, dimension, labels)\n",
    "\n",
    "# init weights\n",
    "number_of_iterations = 10\n",
    "weights = np.ones((test_set_size,)) / test_set_size\n",
    "\n",
    "######Copied from Ensemble_Boosting.ipynb############################\n",
    "def calculate_accuracy_vector(predicted, labels):\n",
    "    result = []\n",
    "    for i in range(len(predicted)):\n",
    "        if predicted[i] == labels[i]:\n",
    "            result.append(0)\n",
    "        else:\n",
    "            result.append(1)\n",
    "    return result\n",
    "####################################################################\n",
    "\n",
    "def train_model(classifier, weights, test_set, test_labels):\n",
    "    return classifier.fit(X=test_set, y=test_labels, sample_weight=weights)\n",
    "\n",
    "def calculate_error(model, test_set, test_labels):\n",
    "    predicted = model.predict(test_set)\n",
    "    I=calculate_accuracy_vector(predicted, test_labels)\n",
    "    Z=np.sum(I)\n",
    "    return (1+Z)/1.0\n",
    "print(\"DONE\")"
   ]
  },
  {
   "cell_type": "markdown",
   "metadata": {},
   "source": [
    "Fill the two functions below:"
   ]
  },
  {
   "cell_type": "code",
   "execution_count": 52,
   "metadata": {},
   "outputs": [
    {
     "name": "stdout",
     "output_type": "stream",
     "text": [
      "DONE\n"
     ]
    }
   ],
   "source": [
    "def set_new_weights(model, test_set, test_labels):\n",
    "    \n",
    "    # fill the code here (two lines)###################################\n",
    "    I = calculate_accuracy_vector(model.predict(test_set), test_labels)\n",
    "    new_weights =  np.add(1,I)/np.sum(np.add(1,I))\n",
    "    ###################################################################\n",
    "    return new_weights \n",
    "print(\"DONE\")"
   ]
  },
  {
   "cell_type": "markdown",
   "metadata": {},
   "source": [
    "Train the classifier with the code below:"
   ]
  },
  {
   "cell_type": "code",
   "execution_count": 57,
   "metadata": {},
   "outputs": [
    {
     "name": "stdout",
     "output_type": "stream",
     "text": [
      "DONE\n"
     ]
    }
   ],
   "source": [
    "classifier = DecisionTreeClassifier(max_depth=1, random_state=1)\n",
    "#classifier.fit(X=train_set, y=train_labels)\n",
    "#alphas = []\n",
    "\n",
    "classifiers = []\n",
    "for iteration in range(number_of_iterations):\n",
    "    model = train_model(classifier, weights, test_set, test_labels)\n",
    "    weights = set_new_weights(model, test_set, test_labels)\n",
    "    classifiers.append(model)   \n",
    "\n",
    "#print(weights)\n",
    "validate_x, validate_label = generate_data(1, dimension, labels)\n",
    "print(\"DONE\")"
   ]
  },
  {
   "cell_type": "markdown",
   "metadata": {},
   "source": [
    "Set the validation data set:"
   ]
  },
  {
   "cell_type": "code",
   "execution_count": 54,
   "metadata": {},
   "outputs": [
    {
     "name": "stdout",
     "output_type": "stream",
     "text": [
      "[[0.05041155 0.08887679]]\n"
     ]
    }
   ],
   "source": [
    "validate_x, validate_label = generate_data(1, dimension, labels)\n",
    "print(validate_x)"
   ]
  },
  {
   "cell_type": "markdown",
   "metadata": {},
   "source": [
    "Fill the prediction code:"
   ]
  },
  {
   "cell_type": "code",
   "execution_count": 55,
   "metadata": {
    "scrolled": true
   },
   "outputs": [
    {
     "name": "stdout",
     "output_type": "stream",
     "text": [
      "DONE\n"
     ]
    }
   ],
   "source": [
    "def get_prediction(x, test_labels):\n",
    "    # fill the code here (5-6 lines)############################################################\n",
    "    predictions = []\n",
    "\n",
    "    test_unique_labels = np.unique(test_labels) \n",
    "    votes_count = np.zeros(test_unique_labels.shape[0])\n",
    "    print(\"test_unique_labels = \", test_unique_labels)\n",
    "    for i in range(len(classifiers)):\n",
    "        predicted = classifiers[i].predict(x)\n",
    "        for j in range(test_unique_labels.shape[0]):\n",
    "            if test_unique_labels[j] == predicted[0]:\n",
    "                votes_count[j] =  votes_count[j] + 1\n",
    "        print(\"votes_count = \", votes_count)\n",
    "                \n",
    "    if votes_count[np.argmax(votes_count)] > 0.5*(len(classifiers)):\n",
    "        #checking whether there was a majority or a tie (50:50).\n",
    "        return test_unique_labels[np.argmax(votes_count)]\n",
    "    else:\n",
    "        print(\"Warning! Simple majority vote ended in a tie. Maybe try a different classifier.\")\n",
    "    ###############################################################################################\n",
    "print(\"DONE\")"
   ]
  },
  {
   "cell_type": "markdown",
   "metadata": {},
   "source": [
    "Test it:"
   ]
  },
  {
   "cell_type": "code",
   "execution_count": 56,
   "metadata": {},
   "outputs": [
    {
     "name": "stdout",
     "output_type": "stream",
     "text": [
      "test_unique_labels =  [0 1]\n",
      "votes_count =  [0. 1.]\n",
      "votes_count =  [0. 2.]\n",
      "votes_count =  [0. 3.]\n",
      "votes_count =  [0. 4.]\n",
      "votes_count =  [0. 5.]\n",
      "votes_count =  [0. 6.]\n",
      "votes_count =  [0. 7.]\n",
      "votes_count =  [0. 8.]\n",
      "votes_count =  [0. 9.]\n",
      "votes_count =  [ 0. 10.]\n",
      "1\n"
     ]
    }
   ],
   "source": [
    "prediction = get_prediction(validate_x, test_labels)\n",
    "\n",
    "print(prediction)"
   ]
  }
 ],
 "metadata": {
  "kernelspec": {
   "display_name": "Python 3",
   "language": "python",
   "name": "python3"
  },
  "language_info": {
   "codemirror_mode": {
    "name": "ipython",
    "version": 3
   },
   "file_extension": ".py",
   "mimetype": "text/x-python",
   "name": "python",
   "nbconvert_exporter": "python",
   "pygments_lexer": "ipython3",
   "version": "3.7.3"
  }
 },
 "nbformat": 4,
 "nbformat_minor": 4
}
